{
  "metadata": {
    "language_info": {
      "codemirror_mode": {
        "name": "python",
        "version": 3
      },
      "file_extension": ".py",
      "mimetype": "text/x-python",
      "name": "python",
      "nbconvert_exporter": "python",
      "pygments_lexer": "ipython3",
      "version": "3.8"
    },
    "kernelspec": {
      "name": "python",
      "display_name": "Pyolite",
      "language": "python"
    }
  },
  "nbformat_minor": 4,
  "nbformat": 4,
  "cells": [
    {
      "cell_type": "code",
      "source": "import numpy as np\nimport scipy.stats as si\nimport datetime as dt",
      "metadata": {
        "trusted": true
      },
      "execution_count": 1,
      "outputs": []
    },
    {
      "cell_type": "code",
      "source": "def Normsdist(x):\n    Normsdist = si.norm.cdf(x,0.0,1.0)\n    return (Normsdist)\n\ndef Normsdistinv(x):\n    Normsdistinv = si.norm.ppf(x,0.0,1.0)\n    return(Normsdistinv)",
      "metadata": {
        "trusted": true
      },
      "execution_count": 2,
      "outputs": []
    },
    {
      "cell_type": "code",
      "source": "import calendar\nprint(calendar.month(2022,6))",
      "metadata": {
        "trusted": true
      },
      "execution_count": 3,
      "outputs": [
        {
          "name": "stdout",
          "text": "     June 2022\nMo Tu We Th Fr Sa Su\n       1  2  3  4  5\n 6  7  8  9 10 11 12\n13 14 15 16 17 18 19\n20 21 22 23 24 25 26\n27 28 29 30\n\n",
          "output_type": "stream"
        }
      ]
    },
    {
      "cell_type": "code",
      "source": "spot = 134.08\nfwd = 133.84\nk = 140.00\nccy1 = -0.2468/100 #for currency XXX/YYY, YYY i/r\nccy2 = 1.73/100 #for currency XXX/YYY, XXX i/r\nvol = 14.692/100 #there is a difference between put vol and call vol\nt = 32/360 #t = Time_to_expiry\nNotional = 1000000 #for currency XXX/YYY, XXX notional\n",
      "metadata": {
        "trusted": true
      },
      "execution_count": 4,
      "outputs": []
    },
    {
      "cell_type": "code",
      "source": "def GKF1(spot, k, t, ccy1, ccy2, vol):\n    d1 = (np.log(spot/k) + (ccy1-ccy2+0.5*vol**2)*t) / (vol*np.sqrt(t))\n    d2 = d1 - vol*np.sqrt(t)\n    c  = spot*np.exp(-ccy2*t)*Normsdist(d1) - k*np.exp(-ccy1*t)*Normsdist(d2)\n    p  = np.exp(-ccy1*t)*k*Normsdist(-d2) - spot*Normsdist(-d1)*np.exp(-ccy2*t)\n    delta_c = np.exp(-ccy1*t)*Normsdist(d1)\n    delta_p = 1-delta_c\n    return c, p, delta_c, delta_p",
      "metadata": {
        "trusted": true
      },
      "execution_count": 5,
      "outputs": []
    },
    {
      "cell_type": "code",
      "source": "#0 for calls, 1 for puts\n#XXXcJPYp\nscaling_jpy = 10**2\npct_jpy = GKF1(spot, k, t, ccy1, ccy2, vol)[0]*Notional/(k*Notional)*100\npct_usd = (GKF1(spot, k, t, ccy1, ccy2, vol)[0]*Notional/spot)/(Notional)*100\npip_jpy = (pct_usd/100)*spot*scaling_jpy\npip_usd = pct_jpy*100/spot*scaling_jpy\nprint(pct_jpy)\nprint(pct_usd)\nprint(pip_jpy)\nprint(pip_usd)",
      "metadata": {
        "trusted": true
      },
      "execution_count": 6,
      "outputs": [
        {
          "name": "stdout",
          "text": "0.3392241331511186\n0.35420180967449727\n47.4913786411566\n25.300129262464093\n",
          "output_type": "stream"
        }
      ]
    },
    {
      "cell_type": "code",
      "source": "#0 for calls, 1 for puts\n#XXXpJPYc\nscaling_jpy = 10**2\npct_jpy = GKF1(spot, k, t, ccy1, ccy2, vol)[1]*Notional/(k*Notional)*100\npct_usd = (GKF1(spot, k, t, ccy1, ccy2, vol)[1]*Notional/spot)/(Notional)*100\npip_jpy = (pct_usd/100)*spot*scaling_jpy\npip_usd = pct_jpy*100/spot*scaling_jpy\nprint(pct_jpy)\nprint(pct_usd)\nprint(pip_jpy)\nprint(pip_usd)",
      "metadata": {
        "trusted": true
      },
      "execution_count": 7,
      "outputs": [
        {
          "name": "stdout",
          "text": "4.736897740387361\n4.9460447766574465\n663.1656836542304\n353.2889126183891\n",
          "output_type": "stream"
        }
      ]
    },
    {
      "cell_type": "code",
      "source": "",
      "metadata": {},
      "execution_count": null,
      "outputs": []
    }
  ]
}